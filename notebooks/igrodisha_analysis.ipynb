{
 "cells": [
  {
   "cell_type": "markdown",
   "id": "0df85472",
   "metadata": {},
   "source": [
    "# IGROdisha Data: Descriptive Statistics\n",
    "\n",
    "<b>Warning!</b> Not cleaned for publication.\n",
    "\n",
    "This IPYNB generates descriptive stats for the IGROdisha land values dataset. Scrape code and this notebook prepared by [Ritwiz Sarma](ritwizsarma.github.io).\n"
   ]
  },
  {
   "cell_type": "markdown",
   "id": "760f0d46-01a7-42cd-aebe-bb001b084fca",
   "metadata": {},
   "source": [
    "## Initializing data objects and preliminary exploratory analysis"
   ]
  },
  {
   "cell_type": "markdown",
   "id": "dc22eb71-2183-4cd8-aec0-96d614941572",
   "metadata": {},
   "source": [
    "### Importing necessary libraries"
   ]
  },
  {
   "cell_type": "code",
   "execution_count": 1,
   "id": "43c26ab6-2739-400b-8a0f-d8e57bd9c71b",
   "metadata": {},
   "outputs": [],
   "source": [
    "import pandas as pd\n",
    "import seaborn as sb\n",
    "import numpy as np\n",
    "import os"
   ]
  },
  {
   "cell_type": "markdown",
   "id": "8868f157-d810-4bfa-9ab4-40f80b5fb1ac",
   "metadata": {},
   "source": [
    "### Merging CSVs into single DataFrame"
   ]
  },
  {
   "cell_type": "code",
   "execution_count": 2,
   "id": "e47ab94f-b18e-45b3-bdda-86cc19b87c71",
   "metadata": {},
   "outputs": [],
   "source": [
    "dists = [x.path for x in os.scandir(\"C:\\\\Users\\\\ritwi\\\\Dropbox\\\\Ritwiz\\\\Circle_Rates\\\\Odisha_Master\\\\Data\")][:-3]"
   ]
  },
  {
   "cell_type": "code",
   "execution_count": 3,
   "id": "1d204aa6-2c2b-45a8-8ef8-128409908a75",
   "metadata": {},
   "outputs": [
    {
     "data": {
      "text/plain": [
       "['C:\\\\Users\\\\ritwi\\\\Dropbox\\\\Ritwiz\\\\Circle_Rates\\\\Odisha_Master\\\\Data\\\\1',\n",
       " 'C:\\\\Users\\\\ritwi\\\\Dropbox\\\\Ritwiz\\\\Circle_Rates\\\\Odisha_Master\\\\Data\\\\10',\n",
       " 'C:\\\\Users\\\\ritwi\\\\Dropbox\\\\Ritwiz\\\\Circle_Rates\\\\Odisha_Master\\\\Data\\\\11',\n",
       " 'C:\\\\Users\\\\ritwi\\\\Dropbox\\\\Ritwiz\\\\Circle_Rates\\\\Odisha_Master\\\\Data\\\\12',\n",
       " 'C:\\\\Users\\\\ritwi\\\\Dropbox\\\\Ritwiz\\\\Circle_Rates\\\\Odisha_Master\\\\Data\\\\13',\n",
       " 'C:\\\\Users\\\\ritwi\\\\Dropbox\\\\Ritwiz\\\\Circle_Rates\\\\Odisha_Master\\\\Data\\\\14',\n",
       " 'C:\\\\Users\\\\ritwi\\\\Dropbox\\\\Ritwiz\\\\Circle_Rates\\\\Odisha_Master\\\\Data\\\\15',\n",
       " 'C:\\\\Users\\\\ritwi\\\\Dropbox\\\\Ritwiz\\\\Circle_Rates\\\\Odisha_Master\\\\Data\\\\16',\n",
       " 'C:\\\\Users\\\\ritwi\\\\Dropbox\\\\Ritwiz\\\\Circle_Rates\\\\Odisha_Master\\\\Data\\\\17',\n",
       " 'C:\\\\Users\\\\ritwi\\\\Dropbox\\\\Ritwiz\\\\Circle_Rates\\\\Odisha_Master\\\\Data\\\\18',\n",
       " 'C:\\\\Users\\\\ritwi\\\\Dropbox\\\\Ritwiz\\\\Circle_Rates\\\\Odisha_Master\\\\Data\\\\24',\n",
       " 'C:\\\\Users\\\\ritwi\\\\Dropbox\\\\Ritwiz\\\\Circle_Rates\\\\Odisha_Master\\\\Data\\\\25',\n",
       " 'C:\\\\Users\\\\ritwi\\\\Dropbox\\\\Ritwiz\\\\Circle_Rates\\\\Odisha_Master\\\\Data\\\\26',\n",
       " 'C:\\\\Users\\\\ritwi\\\\Dropbox\\\\Ritwiz\\\\Circle_Rates\\\\Odisha_Master\\\\Data\\\\27',\n",
       " 'C:\\\\Users\\\\ritwi\\\\Dropbox\\\\Ritwiz\\\\Circle_Rates\\\\Odisha_Master\\\\Data\\\\28',\n",
       " 'C:\\\\Users\\\\ritwi\\\\Dropbox\\\\Ritwiz\\\\Circle_Rates\\\\Odisha_Master\\\\Data\\\\29',\n",
       " 'C:\\\\Users\\\\ritwi\\\\Dropbox\\\\Ritwiz\\\\Circle_Rates\\\\Odisha_Master\\\\Data\\\\30',\n",
       " 'C:\\\\Users\\\\ritwi\\\\Dropbox\\\\Ritwiz\\\\Circle_Rates\\\\Odisha_Master\\\\Data\\\\6',\n",
       " 'C:\\\\Users\\\\ritwi\\\\Dropbox\\\\Ritwiz\\\\Circle_Rates\\\\Odisha_Master\\\\Data\\\\8',\n",
       " 'C:\\\\Users\\\\ritwi\\\\Dropbox\\\\Ritwiz\\\\Circle_Rates\\\\Odisha_Master\\\\Data\\\\9']"
      ]
     },
     "execution_count": 3,
     "metadata": {},
     "output_type": "execute_result"
    }
   ],
   "source": [
    "dists"
   ]
  },
  {
   "cell_type": "code",
   "execution_count": 5,
   "id": "9d6e9587-c277-4cce-ae81-1a31d8b2dd45",
   "metadata": {},
   "outputs": [],
   "source": [
    "sch = ['28', '30', '17', '21', '2', '10', '25', '15', '27', '23', '19', '20']\n",
    "\n",
    "nonsch = ['4', '14', '8', '5', '16', '12', '7', '13', '9', '1', '24', '18', '26', '11', '6', '29', '3', '22']"
   ]
  },
  {
   "cell_type": "code",
   "execution_count": 9,
   "id": "4364c8f3-48e5-4df5-94ce-ae3d3cbcb7b7",
   "metadata": {},
   "outputs": [],
   "source": [
    "dists = ['C:\\\\Users\\\\ritwi\\\\Dropbox\\\\Ritwiz\\\\Circle_Rates\\\\Odisha_Master\\\\Data\\\\28',\n",
    "         'C:\\\\Users\\\\ritwi\\\\Dropbox\\\\Ritwiz\\\\Circle_Rates\\\\Odisha_Master\\\\Data\\\\30',\n",
    "         'C:\\\\Users\\\\ritwi\\\\Dropbox\\\\Ritwiz\\\\Circle_Rates\\\\Odisha_Master\\\\Data\\\\17',\n",
    "         # 'C:\\\\Users\\\\ritwi\\\\Dropbox\\\\Ritwiz\\\\IGROdisha_Master\\\\Data\\\\21',\n",
    "         # 'C:\\\\Users\\\\ritwi\\\\Dropbox\\\\Ritwiz\\\\IGROdisha_Master\\\\Data\\\\2',\n",
    "         'C:\\\\Users\\\\ritwi\\\\Dropbox\\\\Ritwiz\\\\Circle_Rates\\\\Odisha_Master\\\\Data\\\\10',\n",
    "         'C:\\\\Users\\\\ritwi\\\\Dropbox\\\\Ritwiz\\\\Circle_Rates\\\\Odisha_Master\\\\Data\\\\25',\n",
    "         'C:\\\\Users\\\\ritwi\\\\Dropbox\\\\Ritwiz\\\\Circle_Rates\\\\Odisha_Master\\\\Data\\\\15',\n",
    "         'C:\\\\Users\\\\ritwi\\\\Dropbox\\\\Ritwiz\\\\Circle_Rates\\\\Odisha_Master\\\\Data\\\\27',\n",
    "         # 'C:\\\\Users\\\\ritwi\\\\Dropbox\\\\Ritwiz\\\\IGROdisha_Master\\\\Data\\\\23',\n",
    "         # 'C:\\\\Users\\\\ritwi\\\\Dropbox\\\\Ritwiz\\\\IGROdisha_Master\\\\Data\\\\19',\n",
    "         # 'C:\\\\Users\\\\ritwi\\\\Dropbox\\\\Ritwiz\\\\IGROdisha_Master\\\\Data\\\\20',\n",
    "         # 'C:\\\\Users\\\\ritwi\\\\Dropbox\\\\Ritwiz\\\\IGROdisha_Master\\\\Data\\\\4',\n",
    "         'C:\\\\Users\\\\ritwi\\\\Dropbox\\\\Ritwiz\\\\Circle_Rates\\\\Odisha_Master\\\\Data\\\\14',\n",
    "         'C:\\\\Users\\\\ritwi\\\\Dropbox\\\\Ritwiz\\\\Circle_Rates\\\\Odisha_Master\\\\Data\\\\8',\n",
    "         # 'C:\\\\Users\\\\ritwi\\\\Dropbox\\\\Ritwiz\\\\IGROdisha_Master\\\\Data\\\\5',\n",
    "         'C:\\\\Users\\\\ritwi\\\\Dropbox\\\\Ritwiz\\\\Circle_Rates\\\\Odisha_Master\\\\Data\\\\16',\n",
    "         'C:\\\\Users\\\\ritwi\\\\Dropbox\\\\Ritwiz\\\\Circle_Rates\\\\Odisha_Master\\\\Data\\\\12',\n",
    "         # 'C:\\\\Users\\\\ritwi\\\\Dropbox\\\\Ritwiz\\\\IGROdisha_Master\\\\Data\\\\7',\n",
    "         'C:\\\\Users\\\\ritwi\\\\Dropbox\\\\Ritwiz\\\\Circle_Rates\\\\Odisha_Master\\\\Data\\\\13',\n",
    "         'C:\\\\Users\\\\ritwi\\\\Dropbox\\\\Ritwiz\\\\Circle_Rates\\\\Odisha_Master\\\\Data\\\\9',\n",
    "         'C:\\\\Users\\\\ritwi\\\\Dropbox\\\\Ritwiz\\\\Circle_Rates\\\\Odisha_Master\\\\Data\\\\1',\n",
    "         'C:\\\\Users\\\\ritwi\\\\Dropbox\\\\Ritwiz\\\\Circle_Rates\\\\Odisha_Master\\\\Data\\\\24',\n",
    "         'C:\\\\Users\\\\ritwi\\\\Dropbox\\\\Ritwiz\\\\Circle_Rates\\\\Odisha_Master\\\\Data\\\\18',\n",
    "         'C:\\\\Users\\\\ritwi\\\\Dropbox\\\\Ritwiz\\\\Circle_Rates\\\\Odisha_Master\\\\Data\\\\26',\n",
    "         'C:\\\\Users\\\\ritwi\\\\Dropbox\\\\Ritwiz\\\\Circle_Rates\\\\Odisha_Master\\\\Data\\\\11',\n",
    "         'C:\\\\Users\\\\ritwi\\\\Dropbox\\\\Ritwiz\\\\Circle_Rates\\\\Odisha_Master\\\\Data\\\\6',\n",
    "         'C:\\\\Users\\\\ritwi\\\\Dropbox\\\\Ritwiz\\\\Circle_Rates\\\\Odisha_Master\\\\Data\\\\29']\n",
    "         # 'C:\\\\Users\\\\ritwi\\\\Dropbox\\\\Ritwiz\\\\IGROdisha_Master\\\\Data\\\\3',\n",
    "         # 'C:\\\\Users\\\\ritwi\\\\Dropbox\\\\Ritwiz\\\\IGROdisha_Master\\\\Data\\\\22']\n"
   ]
  },
  {
   "cell_type": "code",
   "execution_count": 4,
   "id": "5768193c-135d-4d2a-8949-631ccc63033d",
   "metadata": {},
   "outputs": [
    {
     "name": "stderr",
     "output_type": "stream",
     "text": [
      "C:\\Users\\ritwi\\AppData\\Local\\Temp\\ipykernel_3208\\3611340413.py:7: DtypeWarning: Columns (4,7,8) have mixed types. Specify dtype option on import or set low_memory=False.\n",
      "  df = pd.read_csv(x)\n"
     ]
    },
    {
     "name": "stdout",
     "output_type": "stream",
     "text": [
      "Completed reading C:\\Users\\ritwi\\Dropbox\\Ritwiz\\Circle_Rates\\Odisha_Master\\Data\\1.\n",
      "Completed reading C:\\Users\\ritwi\\Dropbox\\Ritwiz\\Circle_Rates\\Odisha_Master\\Data\\10.\n",
      "Completed reading C:\\Users\\ritwi\\Dropbox\\Ritwiz\\Circle_Rates\\Odisha_Master\\Data\\11.\n",
      "Completed reading C:\\Users\\ritwi\\Dropbox\\Ritwiz\\Circle_Rates\\Odisha_Master\\Data\\12.\n",
      "Completed reading C:\\Users\\ritwi\\Dropbox\\Ritwiz\\Circle_Rates\\Odisha_Master\\Data\\13.\n",
      "Completed reading C:\\Users\\ritwi\\Dropbox\\Ritwiz\\Circle_Rates\\Odisha_Master\\Data\\14.\n",
      "Completed reading C:\\Users\\ritwi\\Dropbox\\Ritwiz\\Circle_Rates\\Odisha_Master\\Data\\15.\n",
      "Completed reading C:\\Users\\ritwi\\Dropbox\\Ritwiz\\Circle_Rates\\Odisha_Master\\Data\\16.\n",
      "Completed reading C:\\Users\\ritwi\\Dropbox\\Ritwiz\\Circle_Rates\\Odisha_Master\\Data\\17.\n",
      "Completed reading C:\\Users\\ritwi\\Dropbox\\Ritwiz\\Circle_Rates\\Odisha_Master\\Data\\18.\n",
      "Completed reading C:\\Users\\ritwi\\Dropbox\\Ritwiz\\Circle_Rates\\Odisha_Master\\Data\\24.\n",
      "Completed reading C:\\Users\\ritwi\\Dropbox\\Ritwiz\\Circle_Rates\\Odisha_Master\\Data\\25.\n",
      "Completed reading C:\\Users\\ritwi\\Dropbox\\Ritwiz\\Circle_Rates\\Odisha_Master\\Data\\26.\n",
      "Completed reading C:\\Users\\ritwi\\Dropbox\\Ritwiz\\Circle_Rates\\Odisha_Master\\Data\\27.\n",
      "Completed reading C:\\Users\\ritwi\\Dropbox\\Ritwiz\\Circle_Rates\\Odisha_Master\\Data\\28.\n",
      "Completed reading C:\\Users\\ritwi\\Dropbox\\Ritwiz\\Circle_Rates\\Odisha_Master\\Data\\29.\n"
     ]
    },
    {
     "name": "stderr",
     "output_type": "stream",
     "text": [
      "C:\\Users\\ritwi\\AppData\\Local\\Temp\\ipykernel_3208\\3611340413.py:7: DtypeWarning: Columns (6) have mixed types. Specify dtype option on import or set low_memory=False.\n",
      "  df = pd.read_csv(x)\n",
      "C:\\Users\\ritwi\\AppData\\Local\\Temp\\ipykernel_3208\\3611340413.py:7: DtypeWarning: Columns (6) have mixed types. Specify dtype option on import or set low_memory=False.\n",
      "  df = pd.read_csv(x)\n",
      "C:\\Users\\ritwi\\AppData\\Local\\Temp\\ipykernel_3208\\3611340413.py:7: DtypeWarning: Columns (6) have mixed types. Specify dtype option on import or set low_memory=False.\n",
      "  df = pd.read_csv(x)\n",
      "C:\\Users\\ritwi\\AppData\\Local\\Temp\\ipykernel_3208\\3611340413.py:7: DtypeWarning: Columns (6) have mixed types. Specify dtype option on import or set low_memory=False.\n",
      "  df = pd.read_csv(x)\n",
      "C:\\Users\\ritwi\\AppData\\Local\\Temp\\ipykernel_3208\\3611340413.py:7: DtypeWarning: Columns (6) have mixed types. Specify dtype option on import or set low_memory=False.\n",
      "  df = pd.read_csv(x)\n"
     ]
    },
    {
     "name": "stdout",
     "output_type": "stream",
     "text": [
      "Completed reading C:\\Users\\ritwi\\Dropbox\\Ritwiz\\Circle_Rates\\Odisha_Master\\Data\\30.\n",
      "Completed reading C:\\Users\\ritwi\\Dropbox\\Ritwiz\\Circle_Rates\\Odisha_Master\\Data\\6.\n",
      "Completed reading C:\\Users\\ritwi\\Dropbox\\Ritwiz\\Circle_Rates\\Odisha_Master\\Data\\8.\n"
     ]
    },
    {
     "name": "stderr",
     "output_type": "stream",
     "text": [
      "C:\\Users\\ritwi\\AppData\\Local\\Temp\\ipykernel_3208\\3611340413.py:7: DtypeWarning: Columns (6) have mixed types. Specify dtype option on import or set low_memory=False.\n",
      "  df = pd.read_csv(x)\n"
     ]
    },
    {
     "name": "stdout",
     "output_type": "stream",
     "text": [
      "Completed reading C:\\Users\\ritwi\\Dropbox\\Ritwiz\\Circle_Rates\\Odisha_Master\\Data\\9.\n"
     ]
    }
   ],
   "source": [
    "dfs = []\n",
    "for dist in dists:\n",
    "    regos = os.listdir(dist)\n",
    "    for rego in regos:\n",
    "        list = [x.path for x in os.scandir(os.path.join(dist,rego))]\n",
    "        for x in list:\n",
    "            df = pd.read_csv(x)\n",
    "            dfs.append(df)\n",
    "    print(\"Completed reading\", dist, end=\".\\n\") #Required because this operation takes time\n",
    "data = pd.concat(dfs)"
   ]
  },
  {
   "cell_type": "code",
   "execution_count": 6,
   "id": "6df7c568-e113-4b00-ba66-9a39d7da4c0d",
   "metadata": {},
   "outputs": [
    {
     "data": {
      "text/plain": [
       "(15475701, 9)"
      ]
     },
     "execution_count": 6,
     "metadata": {},
     "output_type": "execute_result"
    }
   ],
   "source": [
    "data.shape"
   ]
  },
  {
   "cell_type": "code",
   "execution_count": 7,
   "id": "0fbdfb49-cb6c-4579-97e0-4dea2ebcd072",
   "metadata": {},
   "outputs": [],
   "source": [
    "# creating work copy\n",
    "vals = data.copy()"
   ]
  },
  {
   "cell_type": "code",
   "execution_count": 17,
   "id": "74995ace-aaa2-48a6-a5a3-929f349b1983",
   "metadata": {},
   "outputs": [
    {
     "data": {
      "text/plain": [
       "Index([    0,     1,     2,     3,     4,     5,     6,     7,     8,     9,\n",
       "       ...\n",
       "       18813, 18814, 18815, 18816, 18817, 18818, 18819, 18820, 18821, 18822],\n",
       "      dtype='int64', length=15475701)"
      ]
     },
     "execution_count": 17,
     "metadata": {},
     "output_type": "execute_result"
    }
   ],
   "source": [
    "data.index"
   ]
  },
  {
   "cell_type": "markdown",
   "id": "4860f52d-0b15-4dd0-8cd7-293fdb057c06",
   "metadata": {},
   "source": [
    "### Adding district names"
   ]
  },
  {
   "cell_type": "code",
   "execution_count": 8,
   "id": "f02c035d-a213-44ca-b667-a171901d72ca",
   "metadata": {},
   "outputs": [
    {
     "data": {
      "text/html": [
       "<div>\n",
       "<style scoped>\n",
       "    .dataframe tbody tr th:only-of-type {\n",
       "        vertical-align: middle;\n",
       "    }\n",
       "\n",
       "    .dataframe tbody tr th {\n",
       "        vertical-align: top;\n",
       "    }\n",
       "\n",
       "    .dataframe thead th {\n",
       "        text-align: right;\n",
       "    }\n",
       "</style>\n",
       "<table border=\"1\" class=\"dataframe\">\n",
       "  <thead>\n",
       "    <tr style=\"text-align: right;\">\n",
       "      <th></th>\n",
       "      <th>Unnamed: 0</th>\n",
       "      <th>District</th>\n",
       "      <th>RegistrationOff</th>\n",
       "      <th>Village</th>\n",
       "      <th>PlotID</th>\n",
       "      <th>Kisam</th>\n",
       "      <th>Value</th>\n",
       "      <th>Date</th>\n",
       "      <th>TransactionDate</th>\n",
       "    </tr>\n",
       "  </thead>\n",
       "  <tbody>\n",
       "    <tr>\n",
       "      <th>9346</th>\n",
       "      <td>NaN</td>\n",
       "      <td>District</td>\n",
       "      <td>RegistrationOff</td>\n",
       "      <td>Village</td>\n",
       "      <td>PlotID</td>\n",
       "      <td>Kisam</td>\n",
       "      <td>Value</td>\n",
       "      <td>Date</td>\n",
       "      <td>TransactionDate</td>\n",
       "    </tr>\n",
       "    <tr>\n",
       "      <th>25136</th>\n",
       "      <td>NaN</td>\n",
       "      <td>District</td>\n",
       "      <td>RegistrationOff</td>\n",
       "      <td>Village</td>\n",
       "      <td>PlotID</td>\n",
       "      <td>Kisam</td>\n",
       "      <td>Value</td>\n",
       "      <td>Date</td>\n",
       "      <td>TransactionDate</td>\n",
       "    </tr>\n",
       "    <tr>\n",
       "      <th>5884</th>\n",
       "      <td>NaN</td>\n",
       "      <td>District</td>\n",
       "      <td>RegistrationOff</td>\n",
       "      <td>Village</td>\n",
       "      <td>PlotID</td>\n",
       "      <td>Kisam</td>\n",
       "      <td>Value</td>\n",
       "      <td>Date</td>\n",
       "      <td>TransactionDate</td>\n",
       "    </tr>\n",
       "    <tr>\n",
       "      <th>13107</th>\n",
       "      <td>NaN</td>\n",
       "      <td>District</td>\n",
       "      <td>RegistrationOff</td>\n",
       "      <td>Village</td>\n",
       "      <td>PlotID</td>\n",
       "      <td>Kisam</td>\n",
       "      <td>Value</td>\n",
       "      <td>Date</td>\n",
       "      <td>TransactionDate</td>\n",
       "    </tr>\n",
       "  </tbody>\n",
       "</table>\n",
       "</div>"
      ],
      "text/plain": [
       "       Unnamed: 0  District  RegistrationOff  Village  PlotID  Kisam  Value  \\\n",
       "9346          NaN  District  RegistrationOff  Village  PlotID  Kisam  Value   \n",
       "25136         NaN  District  RegistrationOff  Village  PlotID  Kisam  Value   \n",
       "5884          NaN  District  RegistrationOff  Village  PlotID  Kisam  Value   \n",
       "13107         NaN  District  RegistrationOff  Village  PlotID  Kisam  Value   \n",
       "\n",
       "       Date  TransactionDate  \n",
       "9346   Date  TransactionDate  \n",
       "25136  Date  TransactionDate  \n",
       "5884   Date  TransactionDate  \n",
       "13107  Date  TransactionDate  "
      ]
     },
     "execution_count": 8,
     "metadata": {},
     "output_type": "execute_result"
    }
   ],
   "source": [
    "vals[vals['District']==\"District\"]"
   ]
  },
  {
   "cell_type": "code",
   "execution_count": 9,
   "id": "526b9e9f-c7ee-48cd-aa27-c3510a7211ee",
   "metadata": {},
   "outputs": [],
   "source": [
    "vals.drop([13107, 5884, 9346, 25136], axis=0, inplace=True)"
   ]
  },
  {
   "cell_type": "code",
   "execution_count": 10,
   "id": "7d3b109a-243e-487b-bec4-4d5f7b8d3a30",
   "metadata": {},
   "outputs": [],
   "source": [
    "vals['District'] = pd.to_numeric(vals['District'])"
   ]
  },
  {
   "cell_type": "code",
   "execution_count": 11,
   "id": "b4857b88-783a-41ac-97ba-fde7d2a84284",
   "metadata": {},
   "outputs": [
    {
     "data": {
      "text/plain": [
       "array([ 1, 10, 11, 12, 13, 14, 15, 16, 17, 18, 24, 25, 26, 27, 28, 29, 30,\n",
       "        6,  8,  9], dtype=int64)"
      ]
     },
     "execution_count": 11,
     "metadata": {},
     "output_type": "execute_result"
    }
   ],
   "source": [
    "vals['District'].unique()"
   ]
  },
  {
   "cell_type": "code",
   "execution_count": 12,
   "id": "7f6d5476-945e-47ee-8244-0528c93f615d",
   "metadata": {},
   "outputs": [],
   "source": [
    "def map_names(x):\n",
    "    if x==28:\n",
    "        return \"Sambhalpur\"\n",
    "    if x==30:\n",
    "        return \"Sundargarh\"\n",
    "    if x==17:\n",
    "        return \"Keonjhar\"\n",
    "    if x==10:\n",
    "        return \"Gajapati\"\n",
    "    if x==25:\n",
    "        return \"Kandhamal\"\n",
    "    if x==15:\n",
    "        return \"Kalahandi\"\n",
    "    if x==27:\n",
    "        return \"Rayagada\"\n",
    "    if x==14:\n",
    "        return \"Jharsuguda\"\n",
    "    if x==8:\n",
    "        return \"Deogarh\"\n",
    "    if x==16:\n",
    "        return \"Kendrapara\"\n",
    "    if x==12:\n",
    "        return \"Jagatsinghpur\"\n",
    "    if x==13:\n",
    "        return \"Jajpur\"\n",
    "    if x==9:\n",
    "        return \"Dhenkanal\"\n",
    "    if x==1:\n",
    "        return \"Angul\"\n",
    "    if x==24:\n",
    "        return \"Nayagarh\"\n",
    "    if x==18:\n",
    "        return \"Khurda\"\n",
    "    if x==26:\n",
    "        return \"Puri\"\n",
    "    if x==11:\n",
    "        return \"Ganjam\"\n",
    "    if x==6:\n",
    "        return \"Boudh\"\n",
    "    if x==29:\n",
    "        return \"Subarnapur\"\n"
   ]
  },
  {
   "cell_type": "code",
   "execution_count": 13,
   "id": "afe004a2-e7b4-41db-a9d3-9ce4bc5a67d7",
   "metadata": {},
   "outputs": [],
   "source": [
    "vals['DistName'] = vals['District'].map(map_names)"
   ]
  },
  {
   "cell_type": "code",
   "execution_count": 14,
   "id": "772c6efd-e5ca-4b9d-bb48-3e0a3233cb5a",
   "metadata": {},
   "outputs": [
    {
     "data": {
      "text/plain": [
       "20"
      ]
     },
     "execution_count": 14,
     "metadata": {},
     "output_type": "execute_result"
    }
   ],
   "source": [
    "vals['DistName'].nunique()"
   ]
  },
  {
   "cell_type": "markdown",
   "id": "1e8b8aac-1088-4873-b663-c2ad79c03ead",
   "metadata": {},
   "source": [
    "### Exploratory data analysis"
   ]
  },
  {
   "cell_type": "code",
   "execution_count": 13,
   "id": "f046453f-40f9-4082-a97c-e3a7cdd9213e",
   "metadata": {},
   "outputs": [
    {
     "data": {
      "text/plain": [
       "Index(['Unnamed: 0', 'District', 'RegistrationOff', 'Village', 'PlotID',\n",
       "       'Kisam', 'Value', 'Date', 'TransactionDate'],\n",
       "      dtype='object')"
      ]
     },
     "execution_count": 13,
     "metadata": {},
     "output_type": "execute_result"
    }
   ],
   "source": [
    "vals.columns"
   ]
  },
  {
   "cell_type": "code",
   "execution_count": 16,
   "id": "dae9e871-aa18-4043-8843-ae8d17227c1f",
   "metadata": {},
   "outputs": [
    {
     "data": {
      "text/plain": [
       "DistName\n",
       "Angul            1411063\n",
       "Gajapati          255037\n",
       "Ganjam            222551\n",
       "Jagatsinghpur     190875\n",
       "Jajpur            184898\n",
       "Jharsuguda        117165\n",
       "Kalahandi         168299\n",
       "Kendrapara         84255\n",
       "Keonjhar           55640\n",
       "Khurda            691919\n",
       "Nayagarh         1130163\n",
       "Kandhamal         707898\n",
       "Puri             2531312\n",
       "Rayagada          335495\n",
       "Sambhalpur       2148351\n",
       "Subarnapur        627188\n",
       "Sundargarh       2805821\n",
       "Boudh             551921\n",
       "Deogarh           338127\n",
       "Dhenkanal         916123\n",
       "Name: count, dtype: int64"
      ]
     },
     "execution_count": 16,
     "metadata": {},
     "output_type": "execute_result"
    }
   ],
   "source": [
    "vals['DistName'].value_counts(sort=False)"
   ]
  },
  {
   "cell_type": "code",
   "execution_count": 17,
   "id": "14ab2154-94b3-4df7-b3f2-4bf980efc899",
   "metadata": {},
   "outputs": [
    {
     "data": {
      "text/plain": [
       "18413"
      ]
     },
     "execution_count": 17,
     "metadata": {},
     "output_type": "execute_result"
    }
   ],
   "source": [
    "vals['Village'].nunique()"
   ]
  },
  {
   "cell_type": "code",
   "execution_count": 20,
   "id": "c8e23abf-9098-4918-a8a5-10a5cd7ab6f2",
   "metadata": {},
   "outputs": [
    {
     "data": {
      "text/plain": [
       "Kisam\n",
       "GHARABARI                     9.658325\n",
       "CLASS-II                      6.583103\n",
       "CLASS-III                     4.567341\n",
       "ALL OTHER LAND                3.738763\n",
       "GODA-II                       3.532031\n",
       "                                ...   \n",
       "S.A.J.S-III BAGAYAT           0.000006\n",
       "SARADA JALASECHITA DOFASAL    0.000006\n",
       "PADIA DIHA                    0.000006\n",
       "AB BASTI HOUSE SITE           0.000006\n",
       "GHARABARI MELABARI            0.000006\n",
       "Name: count, Length: 953, dtype: float64"
      ]
     },
     "execution_count": 20,
     "metadata": {},
     "output_type": "execute_result"
    }
   ],
   "source": [
    "vals['Kisam'].value_counts() / len(vals['Kisam']) * 100"
   ]
  },
  {
   "cell_type": "code",
   "execution_count": 21,
   "id": "e70395e3-fdcb-4f97-b2bb-e2ca6a74fc3c",
   "metadata": {},
   "outputs": [
    {
     "data": {
      "text/plain": [
       "Unnamed: 0         float64\n",
       "District             int64\n",
       "RegistrationOff     object\n",
       "Village             object\n",
       "PlotID              object\n",
       "Kisam               object\n",
       "Value               object\n",
       "Date                object\n",
       "TransactionDate     object\n",
       "DistName            object\n",
       "dtype: object"
      ]
     },
     "execution_count": 21,
     "metadata": {},
     "output_type": "execute_result"
    }
   ],
   "source": [
    "vals.dtypes"
   ]
  },
  {
   "cell_type": "code",
   "execution_count": 22,
   "id": "6cbb9a8f-ce3c-45fd-a504-8421d51b0b05",
   "metadata": {},
   "outputs": [
    {
     "data": {
      "text/plain": [
       "Value\n",
       "error        3177439\n",
       "200000        351462\n",
       "110000        228364\n",
       "250000        155223\n",
       "110000        132457\n",
       "              ...   \n",
       "32900000           1\n",
       "1038200.0          1\n",
       "260900             1\n",
       "244880             1\n",
       "267001             1\n",
       "Name: count, Length: 14332, dtype: int64"
      ]
     },
     "execution_count": 22,
     "metadata": {},
     "output_type": "execute_result"
    }
   ],
   "source": [
    "vals['Value'].value_counts()"
   ]
  },
  {
   "cell_type": "code",
   "execution_count": 14,
   "id": "415194e0-895e-4a18-8811-7db248891a3c",
   "metadata": {},
   "outputs": [
    {
     "data": {
      "text/plain": [
       "dtype('O')"
      ]
     },
     "execution_count": 14,
     "metadata": {},
     "output_type": "execute_result"
    }
   ],
   "source": [
    "vals['Value'].dtype"
   ]
  },
  {
   "cell_type": "markdown",
   "id": "c8f20924-3032-4c4c-980a-5ec158f180ae",
   "metadata": {},
   "source": [
    "#### Data cleaning, culling null values"
   ]
  },
  {
   "cell_type": "markdown",
   "id": "ca6405c8-1ba6-4a92-a2e2-fb08ec42fb7d",
   "metadata": {},
   "source": [
    "Cleaning District column"
   ]
  },
  {
   "cell_type": "code",
   "execution_count": 49,
   "id": "07c76a57-2f2f-417d-bfc1-af994735814c",
   "metadata": {},
   "outputs": [
    {
     "data": {
      "text/plain": [
       "array([28, 30, 17, 10, 25, 15, 27, 14,  8, 16, 12, 13,  9,  1, 24, 18, 26,\n",
       "       11,  6, 29], dtype=int64)"
      ]
     },
     "execution_count": 49,
     "metadata": {},
     "output_type": "execute_result"
    }
   ],
   "source": [
    "vals['District'].unique()"
   ]
  },
  {
   "cell_type": "code",
   "execution_count": 68,
   "id": "e6627633-23a7-4719-af34-82dda589b441",
   "metadata": {},
   "outputs": [],
   "source": [
    "vals['District'] = vals['District'].apply(str)"
   ]
  },
  {
   "cell_type": "code",
   "execution_count": 69,
   "id": "464d7791-6c91-49f1-a73a-928e1c28e33b",
   "metadata": {},
   "outputs": [
    {
     "data": {
      "text/plain": [
       "array(['28', '30', '17', '10', '25', '15', '27', '14', '8', '16', '12',\n",
       "       '13', '9', '1', '24', '18', '26', '11', '6', '29'], dtype=object)"
      ]
     },
     "execution_count": 69,
     "metadata": {},
     "output_type": "execute_result"
    }
   ],
   "source": [
    "vals['District'].unique()"
   ]
  },
  {
   "cell_type": "markdown",
   "id": "7c641788-762f-4471-ade7-f758150a48b7",
   "metadata": {},
   "source": [
    "Cleaning Values column"
   ]
  },
  {
   "cell_type": "code",
   "execution_count": 23,
   "id": "03081795-f222-427c-b2a8-7214e7661101",
   "metadata": {},
   "outputs": [
    {
     "data": {
      "text/plain": [
       "3177439"
      ]
     },
     "execution_count": 23,
     "metadata": {},
     "output_type": "execute_result"
    }
   ],
   "source": [
    "vals['Value'].replace('error', np.nan, inplace = True)\n",
    "vals['Value'].isna().sum()"
   ]
  },
  {
   "cell_type": "code",
   "execution_count": 24,
   "id": "0ac582f2-24e2-4f3d-af25-d7be3bb82685",
   "metadata": {},
   "outputs": [],
   "source": [
    "vals.dropna(subset = ['Value'], inplace=True)"
   ]
  },
  {
   "cell_type": "code",
   "execution_count": 25,
   "id": "ccc192b8-59ce-427c-839d-5b64b6e2a557",
   "metadata": {},
   "outputs": [
    {
     "data": {
      "text/plain": [
       "(12296662, 10)"
      ]
     },
     "execution_count": 25,
     "metadata": {},
     "output_type": "execute_result"
    }
   ],
   "source": [
    "vals.shape"
   ]
  },
  {
   "cell_type": "code",
   "execution_count": 26,
   "id": "e13b654a-4b9d-4e82-b9a7-51d03bd83af8",
   "metadata": {},
   "outputs": [],
   "source": [
    "vals['Value'] = pd.to_numeric(vals['Value'], errors='coerce')"
   ]
  },
  {
   "cell_type": "code",
   "execution_count": 27,
   "id": "27b91ee7-e424-43aa-98f2-7d1692be84ea",
   "metadata": {},
   "outputs": [],
   "source": [
    "na_val = vals[vals['Value'].isna()]"
   ]
  },
  {
   "cell_type": "code",
   "execution_count": 28,
   "id": "95c9d76c-0eb2-4250-a139-a5b5471aba2d",
   "metadata": {},
   "outputs": [
    {
     "data": {
      "text/html": [
       "<div>\n",
       "<style scoped>\n",
       "    .dataframe tbody tr th:only-of-type {\n",
       "        vertical-align: middle;\n",
       "    }\n",
       "\n",
       "    .dataframe tbody tr th {\n",
       "        vertical-align: top;\n",
       "    }\n",
       "\n",
       "    .dataframe thead th {\n",
       "        text-align: right;\n",
       "    }\n",
       "</style>\n",
       "<table border=\"1\" class=\"dataframe\">\n",
       "  <thead>\n",
       "    <tr style=\"text-align: right;\">\n",
       "      <th></th>\n",
       "      <th>Unnamed: 0</th>\n",
       "      <th>District</th>\n",
       "      <th>RegistrationOff</th>\n",
       "      <th>Village</th>\n",
       "      <th>PlotID</th>\n",
       "      <th>Kisam</th>\n",
       "      <th>Value</th>\n",
       "      <th>Date</th>\n",
       "      <th>TransactionDate</th>\n",
       "      <th>DistName</th>\n",
       "    </tr>\n",
       "  </thead>\n",
       "  <tbody>\n",
       "  </tbody>\n",
       "</table>\n",
       "</div>"
      ],
      "text/plain": [
       "Empty DataFrame\n",
       "Columns: [Unnamed: 0, District, RegistrationOff, Village, PlotID, Kisam, Value, Date, TransactionDate, DistName]\n",
       "Index: []"
      ]
     },
     "execution_count": 28,
     "metadata": {},
     "output_type": "execute_result"
    }
   ],
   "source": [
    "na_val"
   ]
  },
  {
   "cell_type": "code",
   "execution_count": null,
   "id": "d6ae997d-9fc7-46fc-af6d-f49bcad5ba40",
   "metadata": {},
   "outputs": [],
   "source": [
    "vals.drop([651819,877726,2079737], axis=0, inplace=True)"
   ]
  },
  {
   "cell_type": "code",
   "execution_count": 29,
   "id": "244cda61-8f85-4aaa-8e67-95325cf9e5e1",
   "metadata": {},
   "outputs": [
    {
     "data": {
      "text/plain": [
       "count    1.229666e+07\n",
       "mean     1.845994e+06\n",
       "std      9.320637e+06\n",
       "min      0.000000e+00\n",
       "25%      1.328580e+05\n",
       "50%      2.640000e+05\n",
       "75%      7.590000e+05\n",
       "max      7.000000e+09\n",
       "Name: Value, dtype: float64"
      ]
     },
     "execution_count": 29,
     "metadata": {},
     "output_type": "execute_result"
    }
   ],
   "source": [
    "vals['Value'].describe()"
   ]
  },
  {
   "cell_type": "code",
   "execution_count": 74,
   "id": "d32be52a-8970-480e-9e2c-58929efd48c3",
   "metadata": {},
   "outputs": [
    {
     "data": {
      "text/plain": [
       "721071"
      ]
     },
     "execution_count": 74,
     "metadata": {},
     "output_type": "execute_result"
    }
   ],
   "source": [
    "len(vals[vals['Value'] < 0.6e+05])"
   ]
  },
  {
   "cell_type": "code",
   "execution_count": 75,
   "id": "ed3ccfc0-10e0-4013-b45f-1660ddff3ffb",
   "metadata": {},
   "outputs": [
    {
     "name": "stdout",
     "output_type": "stream",
     "text": [
      "9304612\n"
     ]
    }
   ],
   "source": [
    "print(len(vals[vals['Value'] < 0.8e+06]))"
   ]
  },
  {
   "cell_type": "code",
   "execution_count": 76,
   "id": "f78c72fd-b721-4f9c-b3d4-5157b14ca980",
   "metadata": {},
   "outputs": [
    {
     "data": {
      "text/plain": [
       "8999674"
      ]
     },
     "execution_count": 76,
     "metadata": {},
     "output_type": "execute_result"
    }
   ],
   "source": [
    "len(vals[(vals['Value'] < 0.8e+06) & (vals['Value'] > 0.4e+05)])"
   ]
  },
  {
   "cell_type": "code",
   "execution_count": 77,
   "id": "2ef58dec-3f9f-4cbf-96f9-05ac2c21d7a3",
   "metadata": {},
   "outputs": [
    {
     "data": {
      "text/plain": [
       "0.7318794319954472"
      ]
     },
     "execution_count": 77,
     "metadata": {},
     "output_type": "execute_result"
    }
   ],
   "source": [
    "len(vals[(vals['Value'] < 0.8e+06) & (vals['Value'] > 0.4e+05)]) / len(vals)"
   ]
  },
  {
   "cell_type": "code",
   "execution_count": 30,
   "id": "714de0af-e2a5-4da7-84aa-82b2676178de",
   "metadata": {},
   "outputs": [
    {
     "data": {
      "text/plain": [
       "count    8.999674e+06\n",
       "mean     2.504655e+05\n",
       "std      1.733622e+05\n",
       "min      4.000100e+04\n",
       "25%      1.186900e+05\n",
       "50%      2.000000e+05\n",
       "75%      3.300000e+05\n",
       "max      7.992500e+05\n",
       "Name: Value, dtype: float64"
      ]
     },
     "execution_count": 30,
     "metadata": {},
     "output_type": "execute_result"
    }
   ],
   "source": [
    "eval = vals[(vals['Value'] < 0.8e+06) & (vals['Value'] > 0.4e+05)]\n",
    "eval['Value'].describe()"
   ]
  },
  {
   "cell_type": "code",
   "execution_count": 31,
   "id": "4e06a43a-4b5b-47bc-ab9f-0b1486667fb8",
   "metadata": {},
   "outputs": [
    {
     "data": {
      "text/plain": [
       "<matplotlib.lines.Line2D at 0x16e0d8b5390>"
      ]
     },
     "execution_count": 31,
     "metadata": {},
     "output_type": "execute_result"
    },
    {
     "data": {
      "image/png": "[encoded data removed]",
      "text/plain": [
       "<Figure size 640x480 with 1 Axes>"
      ]
     },
     "metadata": {},
     "output_type": "display_data"
    }
   ],
   "source": [
    "ax = sb.boxplot(y = eval['Value'], showfliers = False)\n",
    "ax.axhline(1e+05)"
   ]
  },
  {
   "cell_type": "code",
   "execution_count": null,
   "id": "7ed72878-4b86-4301-8a3f-094771dc9570",
   "metadata": {},
   "outputs": [],
   "source": [
    "ax = sb.displot(\n",
    "    data= eval,\n",
    "    x = 'Value',\n",
    "    bins = 10,\n",
    "    # kde = True,\n",
    "    hue = 'District'\n",
    "    )"
   ]
  },
  {
   "cell_type": "code",
   "execution_count": 33,
   "id": "9f54c894-c0e8-4bbc-a719-953b5f189f8a",
   "metadata": {},
   "outputs": [
    {
     "data": {
      "text/html": [
       "<div>\n",
       "<style scoped>\n",
       "    .dataframe tbody tr th:only-of-type {\n",
       "        vertical-align: middle;\n",
       "    }\n",
       "\n",
       "    .dataframe tbody tr th {\n",
       "        vertical-align: top;\n",
       "    }\n",
       "\n",
       "    .dataframe thead th {\n",
       "        text-align: right;\n",
       "    }\n",
       "</style>\n",
       "<table border=\"1\" class=\"dataframe\">\n",
       "  <thead>\n",
       "    <tr style=\"text-align: right;\">\n",
       "      <th></th>\n",
       "      <th>Unnamed: 0</th>\n",
       "      <th>District</th>\n",
       "      <th>RegistrationOff</th>\n",
       "      <th>Village</th>\n",
       "      <th>PlotID</th>\n",
       "      <th>Kisam</th>\n",
       "      <th>Value</th>\n",
       "      <th>Date</th>\n",
       "      <th>TransactionDate</th>\n",
       "      <th>DistName</th>\n",
       "    </tr>\n",
       "  </thead>\n",
       "  <tbody>\n",
       "    <tr>\n",
       "      <th>3870</th>\n",
       "      <td>3870.0</td>\n",
       "      <td>1</td>\n",
       "      <td>1</td>\n",
       "      <td>10005</td>\n",
       "      <td>100</td>\n",
       "      <td>CLASS-I</td>\n",
       "      <td>696000.0</td>\n",
       "      <td>08-Apr-22</td>\n",
       "      <td>NaN</td>\n",
       "      <td>Angul</td>\n",
       "    </tr>\n",
       "    <tr>\n",
       "      <th>3871</th>\n",
       "      <td>3871.0</td>\n",
       "      <td>1</td>\n",
       "      <td>1</td>\n",
       "      <td>10005</td>\n",
       "      <td>1001</td>\n",
       "      <td>CLASS-II</td>\n",
       "      <td>666000.0</td>\n",
       "      <td>08-Apr-22</td>\n",
       "      <td>NaN</td>\n",
       "      <td>Angul</td>\n",
       "    </tr>\n",
       "    <tr>\n",
       "      <th>3874</th>\n",
       "      <td>3874.0</td>\n",
       "      <td>1</td>\n",
       "      <td>1</td>\n",
       "      <td>10005</td>\n",
       "      <td>101</td>\n",
       "      <td>CLASS-I</td>\n",
       "      <td>696000.0</td>\n",
       "      <td>08-Apr-22</td>\n",
       "      <td>NaN</td>\n",
       "      <td>Angul</td>\n",
       "    </tr>\n",
       "    <tr>\n",
       "      <th>3876</th>\n",
       "      <td>3876.0</td>\n",
       "      <td>1</td>\n",
       "      <td>1</td>\n",
       "      <td>10005</td>\n",
       "      <td>102</td>\n",
       "      <td>CLASS-II</td>\n",
       "      <td>672000.0</td>\n",
       "      <td>08-Apr-22</td>\n",
       "      <td>27-Dec-16</td>\n",
       "      <td>Angul</td>\n",
       "    </tr>\n",
       "    <tr>\n",
       "      <th>3879</th>\n",
       "      <td>3879.0</td>\n",
       "      <td>1</td>\n",
       "      <td>1</td>\n",
       "      <td>10005</td>\n",
       "      <td>103</td>\n",
       "      <td>CLASS-II</td>\n",
       "      <td>672000.0</td>\n",
       "      <td>08-Apr-22</td>\n",
       "      <td>NaN</td>\n",
       "      <td>Angul</td>\n",
       "    </tr>\n",
       "    <tr>\n",
       "      <th>...</th>\n",
       "      <td>...</td>\n",
       "      <td>...</td>\n",
       "      <td>...</td>\n",
       "      <td>...</td>\n",
       "      <td>...</td>\n",
       "      <td>...</td>\n",
       "      <td>...</td>\n",
       "      <td>...</td>\n",
       "      <td>...</td>\n",
       "      <td>...</td>\n",
       "    </tr>\n",
       "    <tr>\n",
       "      <th>37089</th>\n",
       "      <td>37089.0</td>\n",
       "      <td>9</td>\n",
       "      <td>50</td>\n",
       "      <td>500327</td>\n",
       "      <td>996/1055</td>\n",
       "      <td>CLASS-I</td>\n",
       "      <td>700000.0</td>\n",
       "      <td>07-Apr-2022</td>\n",
       "      <td>NaN</td>\n",
       "      <td>Dhenkanal</td>\n",
       "    </tr>\n",
       "    <tr>\n",
       "      <th>37090</th>\n",
       "      <td>37090.0</td>\n",
       "      <td>9</td>\n",
       "      <td>50</td>\n",
       "      <td>500327</td>\n",
       "      <td>997</td>\n",
       "      <td>CLASS-I</td>\n",
       "      <td>700000.0</td>\n",
       "      <td>07-Apr-2022</td>\n",
       "      <td>NaN</td>\n",
       "      <td>Dhenkanal</td>\n",
       "    </tr>\n",
       "    <tr>\n",
       "      <th>37091</th>\n",
       "      <td>37091.0</td>\n",
       "      <td>9</td>\n",
       "      <td>50</td>\n",
       "      <td>500327</td>\n",
       "      <td>998</td>\n",
       "      <td>CLASS-I</td>\n",
       "      <td>700000.0</td>\n",
       "      <td>07-Apr-2022</td>\n",
       "      <td>NaN</td>\n",
       "      <td>Dhenkanal</td>\n",
       "    </tr>\n",
       "    <tr>\n",
       "      <th>37092</th>\n",
       "      <td>37092.0</td>\n",
       "      <td>9</td>\n",
       "      <td>50</td>\n",
       "      <td>500327</td>\n",
       "      <td>998/1029</td>\n",
       "      <td>CLASS-I</td>\n",
       "      <td>700000.0</td>\n",
       "      <td>07-Apr-2022</td>\n",
       "      <td>NaN</td>\n",
       "      <td>Dhenkanal</td>\n",
       "    </tr>\n",
       "    <tr>\n",
       "      <th>37093</th>\n",
       "      <td>37093.0</td>\n",
       "      <td>9</td>\n",
       "      <td>50</td>\n",
       "      <td>500327</td>\n",
       "      <td>999</td>\n",
       "      <td>CLASS-I</td>\n",
       "      <td>700000.0</td>\n",
       "      <td>07-Apr-2022</td>\n",
       "      <td>NaN</td>\n",
       "      <td>Dhenkanal</td>\n",
       "    </tr>\n",
       "  </tbody>\n",
       "</table>\n",
       "<p>8999674 rows × 10 columns</p>\n",
       "</div>"
      ],
      "text/plain": [
       "       Unnamed: 0  District RegistrationOff Village    PlotID     Kisam  \\\n",
       "3870       3870.0         1               1   10005       100   CLASS-I   \n",
       "3871       3871.0         1               1   10005      1001  CLASS-II   \n",
       "3874       3874.0         1               1   10005       101   CLASS-I   \n",
       "3876       3876.0         1               1   10005       102  CLASS-II   \n",
       "3879       3879.0         1               1   10005       103  CLASS-II   \n",
       "...           ...       ...             ...     ...       ...       ...   \n",
       "37089     37089.0         9              50  500327  996/1055   CLASS-I   \n",
       "37090     37090.0         9              50  500327       997   CLASS-I   \n",
       "37091     37091.0         9              50  500327       998   CLASS-I   \n",
       "37092     37092.0         9              50  500327  998/1029   CLASS-I   \n",
       "37093     37093.0         9              50  500327       999   CLASS-I   \n",
       "\n",
       "          Value         Date TransactionDate   DistName  \n",
       "3870   696000.0    08-Apr-22             NaN      Angul  \n",
       "3871   666000.0    08-Apr-22             NaN      Angul  \n",
       "3874   696000.0    08-Apr-22             NaN      Angul  \n",
       "3876   672000.0    08-Apr-22       27-Dec-16      Angul  \n",
       "3879   672000.0    08-Apr-22             NaN      Angul  \n",
       "...         ...          ...             ...        ...  \n",
       "37089  700000.0  07-Apr-2022             NaN  Dhenkanal  \n",
       "37090  700000.0  07-Apr-2022             NaN  Dhenkanal  \n",
       "37091  700000.0  07-Apr-2022             NaN  Dhenkanal  \n",
       "37092  700000.0  07-Apr-2022             NaN  Dhenkanal  \n",
       "37093  700000.0  07-Apr-2022             NaN  Dhenkanal  \n",
       "\n",
       "[8999674 rows x 10 columns]"
      ]
     },
     "execution_count": 33,
     "metadata": {},
     "output_type": "execute_result"
    }
   ],
   "source": [
    "eval"
   ]
  },
  {
   "cell_type": "code",
   "execution_count": 34,
   "id": "3b0d7981-e5fb-49bc-a728-53cb75a57412",
   "metadata": {},
   "outputs": [],
   "source": [
    "eval1 = eval[eval['Kisam'].map(eval['Kisam'].value_counts()) > 110111]"
   ]
  },
  {
   "cell_type": "code",
   "execution_count": 35,
   "id": "2fcbe5e5-754d-4e7a-b322-2ce1238b3351",
   "metadata": {},
   "outputs": [
    {
     "data": {
      "text/plain": [
       "Kisam\n",
       "CLASS-II                                 0.138108\n",
       "GHARABARI                                0.103811\n",
       "CLASS-III                                0.074565\n",
       "ALL OTHER LAND                           0.071096\n",
       "IRRIGATED LAND                           0.069389\n",
       "CLASS-I                                  0.063868\n",
       "GODA-II                                  0.052411\n",
       "MALA SADHARANA                           0.049179\n",
       "SARAD-II                                 0.046805\n",
       "CATEGORY-II                              0.034491\n",
       "BERNA SADHARANA                          0.033791\n",
       "NON IRRIGATED RAIN FED LANDS             0.031415\n",
       "CLASS-IV                                 0.030590\n",
       "CATEGORY 2                               0.030571\n",
       "NON IRRIGATED  LAND                      0.029526\n",
       "BAHAL SADHARANA                          0.026684\n",
       "CHAKA                                    0.025014\n",
       "NON IRRIGATED LAND CLASS-I SARAD-I&II    0.023332\n",
       "CATEGORY  1                              0.022144\n",
       "CLASS II                                 0.021738\n",
       "NON IRRIGATED (ALL OTHER LAND)           0.021472\n",
       "Name: proportion, dtype: float64"
      ]
     },
     "execution_count": 35,
     "metadata": {},
     "output_type": "execute_result"
    }
   ],
   "source": [
    "eval1['Kisam'].value_counts(normalize=True)"
   ]
  },
  {
   "cell_type": "code",
   "execution_count": 36,
   "id": "c50a9915-c97a-4605-8577-1f6a0e3fff58",
   "metadata": {},
   "outputs": [
    {
     "data": {
      "text/plain": [
       "Kisam\n",
       "CLASS-II                                 0.079572\n",
       "GHARABARI                                0.059811\n",
       "CLASS-III                                0.042961\n",
       "ALL OTHER LAND                           0.040962\n",
       "IRRIGATED LAND                           0.039979\n",
       "CLASS-I                                  0.036798\n",
       "GODA-II                                  0.030197\n",
       "MALA SADHARANA                           0.028335\n",
       "SARAD-II                                 0.026967\n",
       "CATEGORY-II                              0.019872\n",
       "BERNA SADHARANA                          0.019469\n",
       "NON IRRIGATED RAIN FED LANDS             0.018100\n",
       "CLASS-IV                                 0.017625\n",
       "CATEGORY 2                               0.017614\n",
       "NON IRRIGATED  LAND                      0.017012\n",
       "BAHAL SADHARANA                          0.015374\n",
       "CHAKA                                    0.014412\n",
       "NON IRRIGATED LAND CLASS-I SARAD-I&II    0.013443\n",
       "CATEGORY  1                              0.012759\n",
       "CLASS II                                 0.012525\n",
       "NON IRRIGATED (ALL OTHER LAND)           0.012371\n",
       "SARAD-I                                  0.011336\n",
       "CATAGORY 4                               0.011329\n",
       "IRRIGATED                                0.011237\n",
       "Name: proportion, dtype: float64"
      ]
     },
     "execution_count": 36,
     "metadata": {},
     "output_type": "execute_result"
    }
   ],
   "source": [
    "eval['Kisam'].value_counts(normalize=True)[:24]"
   ]
  },
  {
   "cell_type": "code",
   "execution_count": 47,
   "id": "bf1a1f87-0275-47d2-9511-1de34ef3da81",
   "metadata": {},
   "outputs": [
    {
     "data": {
      "image/png": "[encoded data removed]",
      "text/plain": [
       "<Figure size 3000x800 with 1 Axes>"
      ]
     },
     "metadata": {},
     "output_type": "display_data"
    }
   ],
   "source": [
    "import matplotlib.pyplot as plt\n",
    "fig, ax = plt.subplots(figsize=(30,8))\n",
    "ax = sb.boxplot(\n",
    "    y = eval1['Value'],\n",
    "    x = eval1['Kisam'],\n",
    "    showfliers = False)"
   ]
  },
  {
   "cell_type": "code",
   "execution_count": 95,
   "id": "b95c5d9d-01ad-412b-96d1-3cf087450d79",
   "metadata": {},
   "outputs": [],
   "source": [
    "eval = eval[eval['DistName']!=\"Deogarh\"]"
   ]
  },
  {
   "cell_type": "code",
   "execution_count": 96,
   "id": "6ced5ebb-3f51-497e-bfc9-d65bca8a5ac4",
   "metadata": {},
   "outputs": [
    {
     "data": {
      "image/png": "[encoded data removed]",
      "text/plain": [
       "<Figure size 2700x900 with 1 Axes>"
      ]
     },
     "metadata": {},
     "output_type": "display_data"
    }
   ],
   "source": [
    "import matplotlib.pyplot as plt\n",
    "fig, ax = plt.subplots(figsize=(27,9))\n",
    "ax = sb.boxplot(\n",
    "    y = eval['Value'],\n",
    "    x = eval['DistName'],\n",
    "    showfliers = False)"
   ]
  },
  {
   "cell_type": "code",
   "execution_count": 98,
   "id": "76533e88-cb81-4442-8428-b5fd2e62e27e",
   "metadata": {},
   "outputs": [],
   "source": [
    "sch = ['28', '30', '17', '21', '2', '10', '25', '15', '27', '23', '19', '20']\n",
    "schdict = dict.fromkeys(sch, 'Scheduled')\n",
    "\n",
    "nonsch = ['4', '14', '8', '5', '16', '12', '7', '13', '9', '1', '24', '18', '26', '11', '6', '29', '3', '22']\n",
    "nonschdict = dict.fromkeys(nonsch, 'NonScheduled')"
   ]
  },
  {
   "cell_type": "code",
   "execution_count": 99,
   "id": "6b431a7e-df9a-4dc2-9113-f20707eab211",
   "metadata": {},
   "outputs": [],
   "source": [
    "mapdict = {**schdict, **nonschdict}"
   ]
  },
  {
   "cell_type": "code",
   "execution_count": 100,
   "id": "420ceb28-dc44-4f63-912d-9cf1ebf88fdd",
   "metadata": {},
   "outputs": [
    {
     "name": "stderr",
     "output_type": "stream",
     "text": [
      "C:\\Users\\ritwi\\AppData\\Local\\Temp\\ipykernel_1200\\3330014402.py:1: SettingWithCopyWarning: \n",
      "A value is trying to be set on a copy of a slice from a DataFrame.\n",
      "Try using .loc[row_indexer,col_indexer] = value instead\n",
      "\n",
      "See the caveats in the documentation: https://pandas.pydata.org/pandas-docs/stable/user_guide/indexing.html#returning-a-view-versus-a-copy\n",
      "  eval['Scheduled'] = eval['District'].map(mapdict)\n"
     ]
    }
   ],
   "source": [
    "eval['Scheduled'] = eval['District'].map(mapdict)"
   ]
  },
  {
   "cell_type": "code",
   "execution_count": 101,
   "id": "38802e65-3fa9-4774-add6-4f97f788e2ea",
   "metadata": {},
   "outputs": [
    {
     "data": {
      "text/plain": [
       "(0.0, 700000.0)"
      ]
     },
     "execution_count": 101,
     "metadata": {},
     "output_type": "execute_result"
    },
    {
     "data": {
      "image/png": "[encoded data removed]",
      "text/plain": [
       "<Figure size 640x480 with 1 Axes>"
      ]
     },
     "metadata": {},
     "output_type": "display_data"
    }
   ],
   "source": [
    "import matplotlib.pyplot as plt\n",
    "ax = sb.boxplot(\n",
    "    y = eval['Value'],\n",
    "    x = eval['Scheduled'],\n",
    "    showfliers = False)\n",
    "plt.ylim(0, 700000)"
   ]
  },
  {
   "cell_type": "code",
   "execution_count": 102,
   "id": "4654df0c-c89e-4b55-8b4f-37f2ab3e0f3c",
   "metadata": {},
   "outputs": [],
   "source": [
    "eval = eval[eval['DistName']!=\"Deogarh\"]"
   ]
  },
  {
   "cell_type": "code",
   "execution_count": 107,
   "id": "b968832c-9233-45ca-96e4-9bcee0d3f921",
   "metadata": {},
   "outputs": [
    {
     "data": {
      "text/plain": [
       "(0.0, 800000.0)"
      ]
     },
     "execution_count": 107,
     "metadata": {},
     "output_type": "execute_result"
    },
    {
     "data": {
      "image/png": "[encoded data removed]",
      "text/plain": [
       "<Figure size 2200x800 with 1 Axes>"
      ]
     },
     "metadata": {},
     "output_type": "display_data"
    }
   ],
   "source": [
    "fig, ax = plt.subplots(figsize=(22,8))\n",
    "ax = sb.boxplot(\n",
    "    y = eval['Value'],\n",
    "    x = eval['DistName'],\n",
    "    hue = eval['Scheduled'],\n",
    "    palette = {'Scheduled': 'blue', 'NonScheduled':'orange'},\n",
    "    showfliers = False)\n",
    "plt.ylim(0,800000)"
   ]
  },
  {
   "cell_type": "code",
   "execution_count": 66,
   "id": "a019235c-46a4-4941-9935-a724f4863b57",
   "metadata": {},
   "outputs": [
    {
     "data": {
      "text/plain": [
       "Index(['Unnamed: 0', 'District', 'RegistrationOff', 'Village', 'PlotID',\n",
       "       'Kisam', 'Value', 'Date', 'TransactionDate'],\n",
       "      dtype='object')"
      ]
     },
     "execution_count": 66,
     "metadata": {},
     "output_type": "execute_result"
    }
   ],
   "source": [
    "eval"
   ]
  },
  {
   "cell_type": "code",
   "execution_count": 76,
   "id": "b66434cf-e64e-4613-8cad-11409637577c",
   "metadata": {},
   "outputs": [],
   "source": [
    "eval.drop(['Unnamed: 0'], axis = 1).groupby(['District']).describe().to_csv(r\"C:\\Users\\ritwi\\OneDrive\\Desktop\\eval.csv\")"
   ]
  },
  {
   "cell_type": "code",
   "execution_count": null,
   "id": "84e2162a-c98e-4ac4-b0b1-c1d4d4494a0e",
   "metadata": {},
   "outputs": [],
   "source": []
  },
  {
   "cell_type": "markdown",
   "id": "0ca28d48-0767-4ce1-87e3-69b4ca0c3baa",
   "metadata": {
    "jp-MarkdownHeadingCollapsed": true
   },
   "source": [
    "## Scheduled Districts"
   ]
  },
  {
   "cell_type": "code",
   "execution_count": 2,
   "id": "56e03694-f047-4f9f-b966-da650520a32d",
   "metadata": {},
   "outputs": [],
   "source": [
    "data = pd.read_csv(r\"C:\\Users\\ritwi\\Dropbox\\Ritwiz\\IGROdisha_Master\\Analysis_Ritwiz\\odisha_sa.csv\")"
   ]
  },
  {
   "cell_type": "code",
   "execution_count": 3,
   "id": "72deff1d-2114-4836-9c10-22dcb637b6f8",
   "metadata": {},
   "outputs": [
    {
     "data": {
      "text/plain": [
       "Index(['SUB_ID', 'NAME', 'DISTRIC', 'STATE_U', 'C_CODE1', 'stat_cd', 'dist_cd',\n",
       "       'sbdst_c', 'SA', 'Area'],\n",
       "      dtype='object')"
      ]
     },
     "execution_count": 3,
     "metadata": {},
     "output_type": "execute_result"
    }
   ],
   "source": [
    "data.columns"
   ]
  },
  {
   "cell_type": "code",
   "execution_count": 4,
   "id": "e47f2aef-5291-4e97-8f85-f08e229221ed",
   "metadata": {},
   "outputs": [],
   "source": [
    "data['SA'] = data['SA'].astype(str)"
   ]
  },
  {
   "cell_type": "code",
   "execution_count": 5,
   "id": "a5fc0042-f49d-452a-838f-3efc2bf3f604",
   "metadata": {},
   "outputs": [],
   "source": [
    "data['SA'] = data['SA'].str.split('.').str[0]"
   ]
  },
  {
   "cell_type": "code",
   "execution_count": 6,
   "id": "bce8791e-db65-4d6f-b204-7d06b5f05e79",
   "metadata": {},
   "outputs": [],
   "source": [
    "sch = data[data['SA']=='1']\n",
    "nsch = data[data['SA']=='0']"
   ]
  },
  {
   "cell_type": "code",
   "execution_count": 7,
   "id": "1789c159-c0f9-4fdc-ae2c-40dfa9245460",
   "metadata": {},
   "outputs": [
    {
     "data": {
      "text/plain": [
       "(159, 10)"
      ]
     },
     "execution_count": 7,
     "metadata": {},
     "output_type": "execute_result"
    }
   ],
   "source": [
    "sch.shape"
   ]
  },
  {
   "cell_type": "code",
   "execution_count": 9,
   "id": "af33f2c5-3ff5-4755-b12b-81f85eb4a5e4",
   "metadata": {},
   "outputs": [
    {
     "data": {
      "text/plain": [
       "array(['Govindpur', 'Mahulpalli', 'Hemgir', 'Lephripara', 'Bhasma',\n",
       "       'Dharuadihi', 'Sundargarh Town', 'Sundargarh', 'Kinjirkela',\n",
       "       'Talasara', 'Baragaon', 'Kutra', 'Rajagangapur', 'Raiboga',\n",
       "       'Biramitrapur', 'Hatibari', 'Bisra', 'Bondamunda',\n",
       "       'Brahmani Tarang', 'Raghunathapali', 'Tangarapali', 'Lathikata',\n",
       "       'Chandiposh', 'Kamarposh Balang', 'Koida', 'Lahunipara',\n",
       "       'Gurundia', 'Tikaetpali', 'Banei', 'Mahulapada', 'Raurkela (M)',\n",
       "       'Raurkela Industrial Township', 'Barbil', 'Bolani', 'Rugudi',\n",
       "       'Joda', 'Bamebari', 'Champua', 'Jhumpura', 'Baria', 'Turumunga',\n",
       "       'Patana', 'Kendujhar Sadar', 'Kendujhar Town', 'Nayakote',\n",
       "       'Kanjipani', 'Telkoi', 'Tiring', 'Bahalda', 'Jamda',\n",
       "       'Rairangpur Town', 'Gorumahisani', 'Jharpokharia', 'Bisoi',\n",
       "       'Rairangpur', 'Badampahar', 'Jashipur', 'Raruan', 'Ghagarbeda',\n",
       "       'Karanjia', 'Thakurmunda', 'Baripada Sadar', 'Baripada Town',\n",
       "       'Koliana', 'Bangiriposi', 'Chandua', 'Suliapada', 'Muruda',\n",
       "       'Rasagobindapur', 'Baisinga', 'Betanati', 'Barsahi', 'Khunta',\n",
       "       'Udala', 'Kaptipada', 'Sharata', 'Mahuldiha', 'Baripada (M)',\n",
       "       'Berhampur', 'Adva', 'Mohana', 'R.Udaygiri', 'Serango', 'Rayagada',\n",
       "       'Ramagiri', 'Gochhapada', 'Phulabani', 'Phulabani Town',\n",
       "       'Khajuripada', 'G.Udayagiri', 'Tikabali', 'Chakpad', 'Sarangagarh',\n",
       "       'Phiringia', 'Baliguda', 'Tumudibandha', 'Belaghar', 'Kotagarh',\n",
       "       'Lanjigarh', 'Thuamul Rampur', 'Ambadala', 'Muniguda',\n",
       "       'Chandrapur', 'Bishamakatak', 'Kalyanasingpur', 'Kashipur',\n",
       "       'Andirakanch', 'Tikiri', 'Doraguda', 'Seskhal', 'Gunupur',\n",
       "       'Gudari', 'Padmapur', 'Puttasing', 'Raighar', 'Kundei', 'Umarkote',\n",
       "       'Chandahandi', 'Jharigan', 'Dabugan', 'Paparahandi', 'Kodinga',\n",
       "       'Kosagumuda', 'Nabarangapur', 'Tentulikhunti', 'Khatiguda',\n",
       "       'Kotpad', 'Boriguma', 'Bhairabsingipur', 'Dasamantapur',\n",
       "       'Lakshmipur', 'Narayanpatana', 'Bandhugaon', 'Kakiriguma',\n",
       "       'Koraput', 'Koraput Town', 'Jeypur', 'Kundura', 'Boipariguda',\n",
       "       'Machh kund', 'Padua', 'Nandapur', 'Similiguda', 'Sunabeda',\n",
       "       'Damanjodi', 'Pottangi', 'Kotiya', 'Malkangiri', 'Mathili',\n",
       "       'Mudulipada', 'Chitrakonda', 'Paparmetla', 'Jodamba', 'Orkel',\n",
       "       'Kalimela', 'Podia', 'M.V. 79', 'Motu'], dtype=object)"
      ]
     },
     "execution_count": 9,
     "metadata": {},
     "output_type": "execute_result"
    }
   ],
   "source": [
    "schdist = sch['NAME'].unique()\n",
    "sch['NAME'].unique()"
   ]
  },
  {
   "cell_type": "code",
   "execution_count": 27,
   "id": "8fc86ef3-0572-4c23-b596-3f1946bfe484",
   "metadata": {},
   "outputs": [
    {
     "data": {
      "text/plain": [
       "array(['Bargarh', 'Jharsuguda', 'Sambalpur', 'Debagarh', 'Kendujhar',\n",
       "       'Baleshwar', 'Bhadrak', 'Kendrapara', 'Jagatsinghapur', 'Cuttack',\n",
       "       'Jajapur', 'Dhenkanal', 'Anugul', 'Nayagarh', 'Khordha', 'Puri',\n",
       "       'Ganjam', 'Gajapati', 'Kandhamal', 'Baudh', 'Subarnapur',\n",
       "       'Balangir', 'Nuapada', 'Kalahandi'], dtype=object)"
      ]
     },
     "execution_count": 27,
     "metadata": {},
     "output_type": "execute_result"
    }
   ],
   "source": [
    "nschdist = nsch['DISTRIC'].unique()\n",
    "nsch['DISTRIC'].unique()"
   ]
  }
 ],
 "metadata": {
  "kernelspec": {
   "display_name": "Python 3 (ipykernel)",
   "language": "python",
   "name": "python3"
  },
  "language_info": {
   "codemirror_mode": {
    "name": "ipython",
    "version": 3
   },
   "file_extension": ".py",
   "mimetype": "text/x-python",
   "name": "python",
   "nbconvert_exporter": "python",
   "pygments_lexer": "ipython3",
   "version": "3.11.4"
  }
 },
 "nbformat": 4,
 "nbformat_minor": 5
}
