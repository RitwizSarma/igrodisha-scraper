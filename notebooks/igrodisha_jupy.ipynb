{
 "cells": [
  {
   "cell_type": "markdown",
   "id": "41b7c253-1a74-42db-bff7-48e50ae69085",
   "metadata": {},
   "source": [
    "# IGROdisha Plot Value Scraper\n",
    "\n",
    "Quick and dirty portable Jupyter implementation. "
   ]
  },
  {
   "cell_type": "markdown",
   "id": "b7f0bb81-5086-417a-b413-628a13491b81",
   "metadata": {},
   "source": [
    "## Importing libraries and assigning directory"
   ]
  },
  {
   "cell_type": "code",
   "execution_count": 11,
   "id": "fd5fcc98-4f8d-475a-a09c-78799940aca7",
   "metadata": {},
   "outputs": [],
   "source": [
    "import os, winsound\n",
    "import pandas as pd\n",
    "import requests, time"
   ]
  },
  {
   "cell_type": "code",
   "execution_count": null,
   "id": "cf3e1761-795e-4055-b1b0-fe73e87e7270",
   "metadata": {},
   "outputs": [],
   "source": [
    "base_dir = r\"\""
   ]
  },
  {
   "cell_type": "markdown",
   "id": "4e2511f2-03f1-4cfc-b8a3-ef3c1f5fbff0",
   "metadata": {
    "jp-MarkdownHeadingCollapsed": true
   },
   "source": [
    "## Classes\n",
    "\n",
    "<i>progressbar</i> builds basic progressbar for multiple functions.\n",
    "<i>timecheck</i> adds time calculator functionality."
   ]
  },
  {
   "cell_type": "code",
   "execution_count": 13,
   "id": "25bc1fbb-0c7d-4b33-aace-099307aa1257",
   "metadata": {},
   "outputs": [],
   "source": [
    "class progressbar():\n",
    "    '''Default progress bar used for multiple functions.'''\n",
    "    def dispBar(iter, constr,  res):\n",
    "        pct = 100 * (iter/constr)\n",
    "        blno = int((pct/100) * res)\n",
    "        bl_str = \"▒\" * blno\n",
    "        if iter != constr: line_str = \"_\" * (res-blno)\n",
    "        else: line_str = \"\"\n",
    "        print(bl_str+line_str, \"%.3f percent done...\" %pct, end='\\r')\n"
   ]
  },
  {
   "cell_type": "code",
   "execution_count": 14,
   "id": "50518773-9217-4259-aee1-81564cdea663",
   "metadata": {},
   "outputs": [],
   "source": [
    "class timecheck:\n",
    "    '''Time calculator functionality.'''\n",
    "    tms = []\n",
    "\n",
    "    def constrfind(id):\n",
    "        '''Finds total plots under given registry office.'''\n",
    "        global RestrtCh\n",
    "        ss = time.time()\n",
    "        vil_payl = {'RegoffId':id}\n",
    "        vil_json = s.post(vil_api,json=vil_payl).json()\n",
    "        pts = 0; i = 0\n",
    "        for vil in vil_json['d']:\n",
    "            plot_payl = {'StrVillageId':vil['VILL_ID']}\n",
    "            plot_json = s.post(plot_api, json=plot_payl).json()\n",
    "            pts = pts + len(plot_json['d'])\n",
    "            i+=1\n",
    "            # print(\"\\rChecking for timecheck constraint: %.3f percent completed...\" %((i/len(vil_json['d']))*100), end='\\r')\n",
    "            progressbar.dispBar(i, len(vil_json['d']), 50)\n",
    "        timecheck.constr = pts\n",
    "        # if RestrtCh=='y':timecheck.Recalc()\n",
    "        ff = time.time()\n",
    "        print(\"\\nTotal %i plots to evaluate.\" %int(pts))\n",
    "        print(\"Calculation took {} mins, {.4f} seconds.\".format(*divmod(ff-ss,60)))\n",
    "\n",
    "    def Recalc():\n",
    "        '''Recalculates plots remaining based on files added to directory.'''\n",
    "        global DistId, RegName\n",
    "        dir = os.path.join(base_dir,str(DistId),RegName)\n",
    "        done = len(list(os.scandir(dir)))\n",
    "        timecheck.constr = timecheck.constr - done\n",
    "\n",
    "    def estTimeRemain(start_tm, iter):\n",
    "        '''Estimates time remaining based on last 400 iterations.'''\n",
    "        tm = time.time() - st\n",
    "        timecheck.tms.append(tm)\n",
    "        avg = sum(timecheck.tms)/len(timecheck.tms)\n",
    "        if len(timecheck.tms)>500:avg = sum(timecheck.tms[-400:])/401\n",
    "        rem = timecheck.constr - iter\n",
    "        est = avg*rem\n",
    "        min_est = int(est//60)\n",
    "        hrs, mins = divmod(min_est, 60)\n",
    "        if len(timecheck.tms)>100 and len(timecheck.tms)%100==0:print(\"Estimated time remaining: {}hrs {}mins...\".format(int(hrs), int(mins)))\n",
    "        if len(timecheck.tms)%400==0:print(\"Average time per iteration: %.5f seconds.\" %avg)\n"
   ]
  },
  {
   "cell_type": "markdown",
   "id": "343bf6d5-9dcb-4283-9869-896ccafa8ca6",
   "metadata": {
    "jp-MarkdownHeadingCollapsed": true
   },
   "source": [
    "## Functions\n",
    "\n",
    "<i>findRegOffs</i> finds and displays registration offices in a district. <i>retVill</i> counts number of plots downloaded based on files saved in dedicated fileorder in working directory. <i>initlists</i> initializes lists."
   ]
  },
  {
   "cell_type": "code",
   "execution_count": 15,
   "id": "f104211a-c787-4c00-97c6-c3af3aaef240",
   "metadata": {},
   "outputs": [],
   "source": [
    "def findRegOffs(dist):\n",
    "    '''Finds and displays registry offices in a particular district.'''\n",
    "    global RegId, RegName\n",
    "    i = 0\n",
    "    payl = {\"distId\":dist}\n",
    "    json=s.post(regoff_api,json=payl).json()\n",
    "    print(\"There are\", len(json['d']), \"registration offices in this district.\")\n",
    "    # print(json['d'][2]['REGOFF_ID'])\n",
    "    # df.to_csv(\"E:/Research/testjson.csv\")\n",
    "    for regs in json['d']:\n",
    "        print(str(i)+\".\", \"\\t\\t\",  regs['REGOFF_ID'], \"\\t\\t\", regs['REGOFF_NAME']); i+=1\n",
    "    iselect = int(input(\"Select Registration Office to scrape: \"))\n",
    "    RegId = json['d'][iselect]['REGOFF_ID']\n",
    "    RegName = json['d'][iselect]['REGOFF_NAME']\n",
    "    print (RegName, RegId)\n"
   ]
  },
  {
   "cell_type": "code",
   "execution_count": 16,
   "id": "1d92b588-e1cf-4c12-8239-3221508f8f9a",
   "metadata": {},
   "outputs": [],
   "source": [
    "def retVill(d_id, regname):\n",
    "    '''Counts number of plots assessed based on number of files saved to directory.'''\n",
    "    global fctr\n",
    "    dir = os.path.join(base_dir,str(d_id),regname)\n",
    "    done = len(list(os.scandir(dir)))\n",
    "    fctr = done\n",
    "    return done*50\n"
   ]
  },
  {
   "cell_type": "code",
   "execution_count": 17,
   "id": "d54669ff-23db-40fc-b11e-a3feff37ea5a",
   "metadata": {},
   "outputs": [],
   "source": [
    "def initLists():\n",
    "    global dists, regoffs, vils, plots \n",
    "    global kisms, mrvals, dts, txndts \n",
    "    dists, regoffs, vils, plots = [], [], [], []\n",
    "    kisms, mrvals, dts, txndts = [], [], [], []\n"
   ]
  },
  {
   "cell_type": "markdown",
   "id": "bd970608-f8b0-4165-9576-719a5099f5b4",
   "metadata": {
    "jp-MarkdownHeadingCollapsed": true
   },
   "source": [
    "## Building Requests module and API addresses"
   ]
  },
  {
   "cell_type": "code",
   "execution_count": 18,
   "id": "92a77562-7f72-498c-877b-484a2992658c",
   "metadata": {},
   "outputs": [],
   "source": [
    "s = requests.session()\n",
    "headers={'user-agent':'Mozilla/5.0 (Macintosh; Intel Mac OS X 10_11_6) AppleWebKit/537.36 (KHTML, like Gecko) Chrome/83.0.4103.116 Safari/537.36'}\n",
    "regoff_api = \"https://www.igrodisha.gov.in/ViewFeeValue.aspx/GetRegoffice\"\n",
    "vil_api = \"https://www.igrodisha.gov.in/ViewFeeValue.aspx/GetVillage\"\n",
    "plot_api = \"https://www.igrodisha.gov.in/ViewFeeValue.aspx/GetPlotDtl\"\n",
    "ksmplt_api = \"https://www.igrodisha.gov.in/ViewFeeValue.aspx/GetKismByPlot\"\n",
    "mrval_api = \"https://www.igrodisha.gov.in/ViewFeeValue.aspx/GetMRVal\""
   ]
  },
  {
   "cell_type": "markdown",
   "id": "52ed1b55-49ec-428f-ae2d-bffb58b2b265",
   "metadata": {},
   "source": [
    "## Main code body"
   ]
  },
  {
   "cell_type": "code",
   "execution_count": 19,
   "id": "bcc62307-a608-45c9-813c-acdd685fa71a",
   "metadata": {},
   "outputs": [],
   "source": [
    "initLists()\n",
    "ctr, fctr  = 0, 0"
   ]
  },
  {
   "cell_type": "code",
   "execution_count": 20,
   "id": "68a96bb9-a0e4-4f7a-ac9a-23fc1c97b3f4",
   "metadata": {
    "scrolled": true
   },
   "outputs": [
    {
     "name": "stdout",
     "output_type": "stream",
     "text": [
      "Enter district ID:\t2\n",
      "There are 10 registration offices in this district.\n",
      "0. \t\t 6 \t\t BALASORE\n",
      "1. \t\t 209 \t\t BALASORE ADM\n",
      "2. \t\t 7 \t\t BALIAPAL\n",
      "3. \t\t 8 \t\t BASTA\n",
      "4. \t\t 9 \t\t JALESWAR\n",
      "5. \t\t 10 \t\t JALESWARPUR\n",
      "6. \t\t 11 \t\t KHAIRA\n",
      "7. \t\t 12 \t\t NILAGIRI\n",
      "8. \t\t 13 \t\t SIMULA\n",
      "9. \t\t 14 \t\t SORO\n",
      "Select Registration Office to scrape: 0\n",
      "BALASORE 6\n"
     ]
    }
   ],
   "source": [
    "DistId = input(\"Enter district ID:\\t\")\n",
    "# DistId = 10\n",
    "findRegOffs(DistId)"
   ]
  },
  {
   "cell_type": "code",
   "execution_count": null,
   "id": "42d08583-f499-4460-8f5f-91d61de0710a",
   "metadata": {},
   "outputs": [],
   "source": [
    "RestrtCh = input(\"Restart from last savepoint? Enter 'y' or 'n'. \")\n",
    "if RestrtCh=='n':timecheck.constrfind(RegId)\n",
    "if RestrtCh=='y':lim = retVill(DistId, RegName)"
   ]
  },
  {
   "cell_type": "code",
   "execution_count": null,
   "id": "b9a3d624-edd4-4ba7-8a91-48f54f9a1614",
   "metadata": {},
   "outputs": [],
   "source": [
    "vil_payl = {'RegoffId':RegId}\n",
    "vil_json = s.post(vil_api,json=vil_payl).json()\n",
    "vctr = 0\n",
    "for vil in vil_json['d']:\n",
    "    vctr+=1\n",
    "    if ctr==0 and RestrtCh=='y':        #breaker for resumefxn\n",
    "        if vctr<=lim:\n",
    "            progressbar.dispBar(vctr, lim, 30)\n",
    "            continue\n",
    "    print(\"\\nReading data for\", vil['VILL_ID'], \"village under\", RegName, \"\\b.\" )\n",
    "    print(\"%i villages left to read.\" %int(len(vil_json['d'])-vctr))\n",
    "    plot_payl = {'StrVillageId':vil['VILL_ID']}\n",
    "    plot_resp = s.post(plot_api, json=plot_payl)\n",
    "    if plot_resp.status_code == 200:\n",
    "        try:\n",
    "            plot_json = plot_resp.json()\n",
    "        except:\n",
    "            print(\"API lookup succeeded but data not readable for village\", vil['VILL_NAME'], end=\".\\n\")\n",
    "            continue\n",
    "    else:\n",
    "        print(\"Unable to read data for village\", vil['VILL_NAME'], \"from\", RegName, end=\".\\n\")\n",
    "        continue\n",
    "    # plot.json()\n",
    "    pctr = 0\n",
    "    for plot in plot_json['d']:\n",
    "        st = time.time()\n",
    "        ctr+=1; pctr+=1\n",
    "        ksmplt_payl = {'plotId':plot['One'], 'VillageId':vil['VILL_ID']}\n",
    "        try:\n",
    "            ksmplt_json = s.post(ksmplt_api, json=ksmplt_payl).json()\n",
    "            ksm = ksmplt_json['d'][0]['PLOTCAT_TYPE']\n",
    "            if len(ksmplt_json['d'])>1:\n",
    "                ksm = \"Multiple kisams found\"\n",
    "        except:\n",
    "            ksm = \"No Kisam found\"\n",
    "        mrval_payl = {'Dist':DistId, 'RegoffId':RegId, 'village':vil['VILL_ID'], 'Plot':plot['One'], 'Area':'1', 'Unit': '1', 'unitTest':'Acre'}\n",
    "        try:\n",
    "            mrval_json = s.post(mrval_api, json=mrval_payl).json()\n",
    "            mrval = mrval_json['d'].split(\"@$\")[1]\n",
    "        except:\n",
    "            mrval = \"error\"\n",
    "            dt = \"error\"\n",
    "            txndt = \"error\"\n",
    "        else:\n",
    "            try:\n",
    "                dt = mrval_json['d'].split(\"@$\")[6]\n",
    "                txndt = mrval_json['d'].split(\"@$\")[7]\n",
    "            except:\n",
    "                dt = \"error\"\n",
    "                txndt = \"error\"\n",
    "        dists.append(DistId)\n",
    "        regoffs.append(RegId)\n",
    "        vils.append(vil['VILL_ID'])\n",
    "        plots.append(plot['One'])\n",
    "        kisms.append(ksm)\n",
    "        mrvals.append(mrval)\n",
    "        dts.append(dt)\n",
    "        txndts.append(txndt)\n",
    "        if pctr%10==0:print(\"Read\", pctr, \"of\", len(plot_json['d']), \"values.\", end='\\r')\n",
    "        # if RestrtCh=='n':timecheck.estTimeRemain(st, ctr)\n",
    "    else:    \n",
    "        if vctr%50==0:       \n",
    "            ss = time.time()\n",
    "            df = pd.DataFrame({'District':dists, 'RegistrationOff':regoffs, 'Village':vils, 'PlotID':plots, 'Kisam':kisms, 'Value':mrvals, 'Date':dts, 'TransactionDate':txndts})\n",
    "            loc = os.path.join(base_dir,str(DistId),RegName)\n",
    "            if not os.path.exists(loc):os.makedirs(loc)\n",
    "            df.to_csv(os.path.join(loc,\"{}_{}.csv\".format(RegName, fctr+1))); fctr+=1\n",
    "            ff = time.time()\n",
    "            print(\"\\nSaving directory to\", loc, \"took %.4f seconds.\" %(ff-ss), end=\".\\n\")\n",
    "            initLists()\n",
    "df = pd.DataFrame({'District':dists, 'RegistrationOff':regoffs, 'Village':vils, 'PlotID':plots, 'Kisam':kisms, 'Value':mrvals, 'Date':dts, 'TransactionDate':txndts})\n",
    "loc = os.path.join(base_dir,str(DistId),RegName)\n",
    "if not os.path.exists(loc):os.makedirs(loc)\n",
    "df.to_csv(os.path.join(loc,\"{}_rem.csv\".format(RegName)), mode='a')\n",
    "print(\"Saved directory to\", loc, end=\".\\n\")\n",
    "for i in range(8):winsound.Beep(550, 750)       #alert sound"
   ]
  }
 ],
 "metadata": {
  "kernelspec": {
   "display_name": "Python 3 (ipykernel)",
   "language": "python",
   "name": "python3"
  },
  "language_info": {
   "codemirror_mode": {
    "name": "ipython",
    "version": 3
   },
   "file_extension": ".py",
   "mimetype": "text/x-python",
   "name": "python",
   "nbconvert_exporter": "python",
   "pygments_lexer": "ipython3",
   "version": "3.11.4"
  }
 },
 "nbformat": 4,
 "nbformat_minor": 5
}
